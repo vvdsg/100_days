{
 "cells": [
  {
   "cell_type": "markdown",
   "metadata": {},
   "source": [
    "Primeira Aula do 100 days of Python por Angela Yu\n",
    "- O que você precisa ser é só bom em buscar boas solucões para os problemas apresentados\n",
    "- Projeto final do dia: gerador de nomes de bandas aleatório"
   ]
  },
  {
   "cell_type": "code",
   "execution_count": 6,
   "metadata": {},
   "outputs": [
    {
     "name": "stdout",
     "output_type": "stream",
     "text": [
      "Day 1 - Python Print Function \n",
      "The function is declared like this: \n",
      "print('what to print')\n"
     ]
    }
   ],
   "source": [
    "#001\n",
    "print(\"Day 1 - Python Print Function \\nThe function is declared like this: \\nprint('what to print')\")"
   ]
  },
  {
   "cell_type": "markdown",
   "metadata": {},
   "source": [
    "Basicamente temos o ensinamento de que para aproveitar um print e quebrar a linha usamos o comando \\n ao final de uma string"
   ]
  },
  {
   "cell_type": "code",
   "execution_count": 26,
   "metadata": {},
   "outputs": [
    {
     "name": "stdout",
     "output_type": "stream",
     "text": [
      "Day 1 - String Manipulation\n",
      "String Concatenation is done with the \"+\" sign.\n",
      "e.g. print(\"Hello \" + \"world\")\n",
      "New lines can be created with a backslash and n.\n"
     ]
    }
   ],
   "source": [
    "#002\n",
    "print(\"Day 1 - String Manipulation\")\n",
    "print('String Concatenation is done with the \"+\" sign.')\n",
    "print('e.g. print(\"Hello \" + \"world\")')\n",
    "print(\"New lines can be created with a backslash and n.\")"
   ]
  },
  {
   "cell_type": "code",
   "execution_count": 30,
   "metadata": {},
   "outputs": [
    {
     "name": "stdout",
     "output_type": "stream",
     "text": [
      "8\n"
     ]
    }
   ],
   "source": [
    "#003\n",
    "# O que está acontecendo aqui é basicamente a leitura do input, que depois de informado retorna o tamanho da string\n",
    "print(len(input(\"What is your name? \")))"
   ]
  },
  {
   "cell_type": "code",
   "execution_count": 37,
   "metadata": {},
   "outputs": [
    {
     "name": "stdout",
     "output_type": "stream",
     "text": [
      "a: 400\n",
      "b: 100\n"
     ]
    }
   ],
   "source": [
    "#004 \n",
    "# Aula sobre uso de variáveis\n",
    "# 🚨 Don't change the code below 👇\n",
    "a = input(\"a: \")\n",
    "b = input(\"b: \")\n",
    "# 🚨 Don't change the code above 👆\n",
    "\n",
    "####################################\n",
    "#Write your code below this line 👇\n",
    "newa = b\n",
    "newb = a\n",
    "a = newa\n",
    "b = newb\n",
    "#Write your code above this line 👆\n",
    "####################################\n",
    "\n",
    "# 🚨 Don't change the code below 👇\n",
    "print(\"a: \" + a)\n",
    "print(\"b: \" + b)"
   ]
  },
  {
   "cell_type": "code",
   "execution_count": 41,
   "metadata": {},
   "outputs": [
    {
     "name": "stdout",
     "output_type": "stream",
     "text": [
      "Seja bem vindo ao Gerador de Nome de Bandas Aleatório\n",
      "O nome da sua banda será: Rio de janeiro Belinha\n"
     ]
    }
   ],
   "source": [
    "#005 \n",
    "# Aqui temos o projeto do dia, criar um gerador de nomes de banda aleatório com os inputs informados pelo cliente/usuário.\n",
    "print(\"Seja bem vindo ao Gerador de Nome de Bandas Aleatório\")\n",
    "name1 = input(\"Qual cidade que você cresceu? \")\n",
    "name2 = input(\"Qual o nome do seu animal de estimação? \")\n",
    "print(f'O nome da sua banda pode ser {name1} {name2}')\n"
   ]
  }
 ],
 "metadata": {
  "kernelspec": {
   "display_name": "Python 3.10.5 ('minimal_ds')",
   "language": "python",
   "name": "python3"
  },
  "language_info": {
   "codemirror_mode": {
    "name": "ipython",
    "version": 3
   },
   "file_extension": ".py",
   "mimetype": "text/x-python",
   "name": "python",
   "nbconvert_exporter": "python",
   "pygments_lexer": "ipython3",
   "version": "3.10.5"
  },
  "orig_nbformat": 4,
  "vscode": {
   "interpreter": {
    "hash": "391066293673a381f46fde4eab3a852297a75425a967fdd3dc9522d6b9db39cd"
   }
  }
 },
 "nbformat": 4,
 "nbformat_minor": 2
}

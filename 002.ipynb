{
 "cells": [
  {
   "cell_type": "markdown",
   "metadata": {},
   "source": [
    "Segunda Aula do 100 days of Python por Angela Yu\n",
    "- Tipos de dados, operações, conversões de tipo, f-strings.\n",
    "- Projeto final será uma calculadora de gorjeta (Tip Calculator)"
   ]
  },
  {
   "cell_type": "markdown",
   "metadata": {},
   "source": [
    "Quais são os tipos de dados?\n",
    "1. Strings: cordões que são caraterizados pelo uso de aspas simples ou duplas\n",
    "2. Integer: números positivos ou negativos sem nenhuma casa decimal\n",
    "3. Float: números com casas decimais\n",
    "4. Boolean: True/False\n"
   ]
  },
  {
   "cell_type": "code",
   "execution_count": null,
   "metadata": {},
   "outputs": [],
   "source": [
    "print(\"Hello\")\n",
    "print(123)\n",
    "print(3.14159)\n",
    "print(True, False)"
   ]
  },
  {
   "cell_type": "markdown",
   "metadata": {},
   "source": [
    "Type casting: alterar um tipo de dado por outro\n",
    "\n",
    "str()\n",
    "int()\n",
    "float()"
   ]
  },
  {
   "cell_type": "code",
   "execution_count": 7,
   "metadata": {},
   "outputs": [
    {
     "name": "stdout",
     "output_type": "stream",
     "text": [
      "Your name has 4 characters.\n"
     ]
    }
   ],
   "source": [
    "num_char = len(input(\"What's your name?\"))\n",
    "new_num_char = str(num_char)\n",
    "print(\"Your name has \" + new_num_char + \" characters.\")"
   ]
  },
  {
   "cell_type": "code",
   "execution_count": null,
   "metadata": {},
   "outputs": [],
   "source": [
    "#006\n",
    "# Write a program that adds the digits in a 2 digit number. e.g. if the input was 35, then the output should be 3 + 5 = 8\n",
    "two_digit_number = input(\"Type a two digit number: \")\n",
    "first_digit = int(two_digit_number[0])\n",
    "second_digit = int(two_digit_number[1])\n",
    "print(first_digit + second_digit)\n",
    "\n"
   ]
  },
  {
   "cell_type": "markdown",
   "metadata": {},
   "source": [
    "Operações matemáticas com Python:\n",
    "+ : adição\n",
    "- : subtração \n",
    "* : multiplicação\n",
    "/ : divisão\n",
    "% : restante da divisão\n",
    "** : exponenciação \n",
    "\n",
    "Ordem de execução em Python\n",
    "PEMDASLR (left right)\n",
    "() \n",
    "**\n",
    "* /\n",
    "+ -\n"
   ]
  },
  {
   "cell_type": "code",
   "execution_count": 19,
   "metadata": {},
   "outputs": [
    {
     "name": "stdout",
     "output_type": "stream",
     "text": [
      "Your BMI: 28\n"
     ]
    }
   ],
   "source": [
    "#007\n",
    "# Write a program that calculates the Body Mass Index (BMI) from a user's weight and height.\n",
    "# The BMI is a measure of someone's weight taking into account their height. e.g. If a tall person and a short person both weigh the same amount, the short person is usually more overweight.\n",
    "# The BMI is calculated by dividing a person's weight (in kg) by the square of their height (in m):\n",
    "\n",
    "weight = int(input(\"What's your weight in KG?\"))\n",
    "height = float(input(\"What's your heigh in m?\"))\n",
    "bmi = weight / (height ** 2)\n",
    "new_bmi = round(bmi)\n",
    "\n",
    "print(f'Your BMI: {new_bmi}')\n"
   ]
  },
  {
   "cell_type": "code",
   "execution_count": 21,
   "metadata": {},
   "outputs": [
    {
     "name": "stdout",
     "output_type": "stream",
     "text": [
      "You have 12410 days, 1768 weeks, and 408 months left\n"
     ]
    }
   ],
   "source": [
    "#008\n",
    "# Create a program using maths and f-Strings that tells us how many days, weeks, months we have left if we live until 90 years old.\n",
    "# It will take your current age as the input and output a message with our time left in this format:\n",
    "# You have x days, y weeks, and z months left.\n",
    "# Where x, y and z are replaced with the actual calculated numbers.\n",
    "# Warning your output should match the Example Output format exactly, even the positions of the commas and full stops.\n",
    "\n",
    "age = int(input(\"What's your age?\"))\n",
    "age_limit = 90\n",
    "\n",
    "day = (age_limit - age) * 365\n",
    "week = (age_limit - age) * 52\n",
    "month = (age_limit - age) * 12\n",
    "\n",
    "print(f'You have {day} days, {week} weeks, and {month} months left')\n"
   ]
  },
  {
   "cell_type": "code",
   "execution_count": 64,
   "metadata": {},
   "outputs": [
    {
     "name": "stdout",
     "output_type": "stream",
     "text": [
      "The bill was $150.0, shared by 5 people and the waiver get 12% tip \n",
      " Each person should give $33.60 to pay the bill.\n"
     ]
    }
   ],
   "source": [
    "#009 \n",
    "# Aqui temos o projeto do dia, criar uma calculadora de gorjetas\n",
    "#If the bill was $150.00, split between 5 people, with 12% tip. \n",
    "\n",
    "#Each person should pay (150.00 / 5) * 1.12 = 33.6\n",
    "#Format the result to 2 decimal places = 33.60\n",
    "\n",
    "#Tip: There are 2 ways to round a number. You might have to do some Googling to solve this.💪\n",
    "\n",
    "bill = float(input(\"How much was the bill?\"))\n",
    "people = int(input(\"How many peoples share the bill?\"))\n",
    "choice = int(input(\"How much tip did the waiver get? 10%, 12%, 15%?\"))\n",
    "payment = (bill/people) * (1+choice/100)\n",
    "r_payment = f'{payment:.2f}'\n",
    "\n",
    "print(f'The bill was ${bill}, shared by {people} people and the waiver get {choice}% tip \\n Each person should give ${r_payment} to pay the bill.')"
   ]
  },
  {
   "cell_type": "code",
   "execution_count": null,
   "metadata": {},
   "outputs": [],
   "source": []
  }
 ],
 "metadata": {
  "kernelspec": {
   "display_name": "Python 3.10.5 ('minimal_ds')",
   "language": "python",
   "name": "python3"
  },
  "language_info": {
   "codemirror_mode": {
    "name": "ipython",
    "version": 3
   },
   "file_extension": ".py",
   "mimetype": "text/x-python",
   "name": "python",
   "nbconvert_exporter": "python",
   "pygments_lexer": "ipython3",
   "version": "3.10.5"
  },
  "orig_nbformat": 4,
  "vscode": {
   "interpreter": {
    "hash": "391066293673a381f46fde4eab3a852297a75425a967fdd3dc9522d6b9db39cd"
   }
  }
 },
 "nbformat": 4,
 "nbformat_minor": 2
}

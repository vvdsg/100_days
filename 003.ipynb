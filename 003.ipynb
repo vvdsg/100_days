{
 "cells": [
  {
   "cell_type": "markdown",
   "metadata": {},
   "source": [
    "Terceira Aula do 100 days of Python por Angela Yu\n",
    "- Conditional Statements, Logical operators, Code Blocks and Scope\n",
    "- Projeto do dia: Adventure's Game"
   ]
  },
  {
   "cell_type": "markdown",
   "metadata": {},
   "source": [
    "Estrutura do else/if\n",
    "\n",
    "if condition:\n",
    "    do this\n",
    "else: \n",
    "    do this\n",
    "\n",
    "water_level = 50\n",
    "if water_level > 80:\n",
    "    print(\"Drain Water\")\n",
    "else:\n",
    "    print(\"Continue\")"
   ]
  },
  {
   "cell_type": "code",
   "execution_count": 2,
   "metadata": {},
   "outputs": [
    {
     "name": "stdout",
     "output_type": "stream",
     "text": [
      "Welcome to the rollercostar!\n",
      "Sorry, you have to grow taller before you can ride.\n"
     ]
    }
   ],
   "source": [
    "# Rollercoaster Version 001\n",
    "\n",
    "print(\"Welcome to the rollercostar!\")\n",
    "height = int(input(\"What is your heigh in cm?\"))\n",
    "\n",
    "if height > 120:\n",
    "    print(\"You can ride the rollercoaster!\")\n",
    "else:\n",
    "    print(\"Sorry, you have to grow taller before you can ride.\")"
   ]
  },
  {
   "cell_type": "markdown",
   "metadata": {},
   "source": [
    "Comparison Operators:\n",
    "> Greather Than\n",
    "< Less Then\n",
    ">= Greather than or equal to \n",
    "<= Less than or equal to\n",
    "== Equal to\n",
    "!= Not equal to\n",
    "\n",
    "= Assignment\n",
    "== Check Equality\n"
   ]
  },
  {
   "cell_type": "code",
   "execution_count": 4,
   "metadata": {},
   "outputs": [
    {
     "name": "stdout",
     "output_type": "stream",
     "text": [
      "This is an odd number\n"
     ]
    }
   ],
   "source": [
    "#010\n",
    "# Odd or Even Exercise\n",
    "# 🚨 Don't change the code below 👇\n",
    "number = int(input(\"Which number do you want to check? \"))\n",
    "# 🚨 Don't change the code above 👆\n",
    "\n",
    "#Write your code below this line 👇\n",
    "if number % 2 == 0:\n",
    "    print(\"This is an even number.\")\n",
    "else:\n",
    "    print(\"This is an odd number\")"
   ]
  },
  {
   "cell_type": "code",
   "execution_count": null,
   "metadata": {},
   "outputs": [],
   "source": [
    "# Rollercoaster Version 002 (Add age)\n",
    "print(\"Welcome to the rollercostar!\")\n",
    "height = int(input(\"What is your heigh in cm?\"))\n",
    "\n",
    "if height >= 120:\n",
    "    print(\"You can ride the rollercoaster!\")\n",
    "    age = int(input(\"What's your age?\"))\n",
    "    if age < 12:\n",
    "        print(\"Please pay $5.\")\n",
    "    elif age <= 18:\n",
    "        print(\"Please pay $7.\")\n",
    "    else:\n",
    "        print(\"Please pay $12.\")\n",
    "else:\n",
    "    print(\"Sorry, you have to grow taller before you can ride.\")"
   ]
  },
  {
   "cell_type": "code",
   "execution_count": 10,
   "metadata": {},
   "outputs": [
    {
     "name": "stdout",
     "output_type": "stream",
     "text": [
      "Your BMI is 30.86, you are obese.\n"
     ]
    }
   ],
   "source": [
    "#011\n",
    "# BMI calculator 2.0\n",
    "height = float(input(\"Enter your height in m :\"))\n",
    "weight = float(input(\"Enter your weight in kg: \"))\n",
    "bmi_calc = weight / height ** 2\n",
    "bmi = round(bmi_calc, 2)\n",
    "\n",
    "if bmi <= 18.5:\n",
    "    print(f'Your BMI is {bmi}, you are underweight.')\n",
    "elif (18.5 < bmi < 25):\n",
    "    print(f'Your BMI is {bmi}, you have a normal weight.')\n",
    "elif (25 < bmi < 30):\n",
    "    print(f'Your BMI is {bmi}, you are overweight.')\n",
    "elif (30 < bmi < 35):\n",
    "    print(f'Your BMI is {bmi}, you are obese.')\n",
    "else:\n",
    "    print(f'Your BMI is {bmi}, you are clinically obese.')"
   ]
  },
  {
   "cell_type": "code",
   "execution_count": 25,
   "metadata": {},
   "outputs": [
    {
     "name": "stdout",
     "output_type": "stream",
     "text": [
      "Leap\n"
     ]
    }
   ],
   "source": [
    "#012\n",
    "# Leap Year Calculator by me\n",
    "year = int(input(\"Enter the year that you want to check: \"))\n",
    "if year % 400 == 0 or year % 4 == 0 and year % 100 != 0:\n",
    "    print(\"Leap year\")\n",
    "else:\n",
    "    print(\"Not Leap\")"
   ]
  },
  {
   "cell_type": "code",
   "execution_count": null,
   "metadata": {},
   "outputs": [],
   "source": [
    "# Leap Year Calculator by Angela\n",
    "year = int(input(\"Enter the year that you want to check: \"))\n",
    "if year % 4 == 0:\n",
    "    if year % 100 == 0:\n",
    "        if year % 400 == 0:\n",
    "            print(\"Leap year.\")\n",
    "        else:\n",
    "            print(\"Not leap year.\")\n",
    "    else:\n",
    "        print(\"Leap year.\")\n",
    "else:\n",
    "    print(\"Not a leap year\")"
   ]
  },
  {
   "cell_type": "code",
   "execution_count": 27,
   "metadata": {},
   "outputs": [
    {
     "name": "stdout",
     "output_type": "stream",
     "text": [
      "Welcome to the rollercostar!\n",
      "You can ride the rollercoaster!\n",
      "Adult tickers are $12.\n",
      "Your final bill is 15.\n"
     ]
    }
   ],
   "source": [
    "# Rollercoaster Version 003 (Add wants_photo)\n",
    "print(\"Welcome to the rollercostar!\")\n",
    "height = int(input(\"What is your heigh in cm?\"))\n",
    "bill = 0\n",
    "\n",
    "if height >= 120:\n",
    "    print(\"You can ride the rollercoaster!\")\n",
    "    age = int(input(\"What's your age?\"))\n",
    "    if age < 12:\n",
    "        bill = 5\n",
    "        print(\"Child tickets are $5.\")\n",
    "    elif age <= 18:\n",
    "        bill = 7\n",
    "        print(\"Youth tickets are $7.\")\n",
    "    else:\n",
    "        bill = 12\n",
    "        print(\"Adult tickers are $12.\")\n",
    "    \n",
    "    wants_photo = input(\"Do you want a photo taken? Y or N. \")\n",
    "    if wants_photo == \"Y\":\n",
    "        bill += 3\n",
    "    \n",
    "    print(f\"Your final bill is ${bill}.\")\n",
    "\n",
    "else:\n",
    "    print(\"Sorry, you have to grow taller before you can ride.\")"
   ]
  },
  {
   "cell_type": "code",
   "execution_count": 47,
   "metadata": {},
   "outputs": [
    {
     "name": "stdout",
     "output_type": "stream",
     "text": [
      "Welcome to Python Pizza Deliveries!\n",
      "Your final bill is $28.\n"
     ]
    }
   ],
   "source": [
    "#013 Pizza Order Program\n",
    "print(\"Welcome to Python Pizza Deliveries!\")\n",
    "size = input(\"What size pizza do you want? S, M, or L\")\n",
    "add_pepperoni = input(\"Do you want pepperoni? Y or N\")\n",
    "extra_cheese = input(\"Do you want extra cheese? Y or N\")\n",
    "bill = 0\n",
    "\n",
    "if add_pepperoni == \"Y\":\n",
    "    if size == \"S\":\n",
    "        bill += 2\n",
    "    else:\n",
    "        bill += 3\n",
    "\n",
    "if extra_cheese == \"Y\":\n",
    "    bill += 1\n",
    "else:\n",
    "    bill += 0\n",
    "\n",
    "if size == \"S\":\n",
    "    bill += 15\n",
    "elif size == \"M\":\n",
    "    bill += 20\n",
    "else:\n",
    "    bill += 25\n",
    "\n",
    "print(f\"Your final bill is: ${bill}.\")"
   ]
  },
  {
   "cell_type": "markdown",
   "metadata": {},
   "source": [
    "Logical Operators:\n",
    "AND = Both values need to be true to output be true too, if one of then false, output false.\n",
    "OR = if one of then TRUE, the final output is TRUE, only with two values False the output is going to be false.\n",
    "E = reverse something"
   ]
  },
  {
   "cell_type": "code",
   "execution_count": 53,
   "metadata": {},
   "outputs": [
    {
     "name": "stdout",
     "output_type": "stream",
     "text": [
      "Welcome to the rollercostar!\n",
      "You can ride the rollercoaster!\n",
      "Adult tickers are $12.\n",
      "Your final bill is $12.\n"
     ]
    }
   ],
   "source": [
    "# Rollercoaster Version 004 (Add Age 45-55 statement)\n",
    "print(\"Welcome to the rollercostar!\")\n",
    "height = int(input(\"What is your heigh in cm?\"))\n",
    "bill = 0\n",
    "\n",
    "if height >= 120:\n",
    "    print(\"You can ride the rollercoaster!\")\n",
    "    age = int(input(\"What's your age?\"))\n",
    "    if age < 12:\n",
    "        bill = 5\n",
    "        print(\"Child tickets are $5.\")\n",
    "    elif age <= 18:\n",
    "        bill = 7\n",
    "        print(\"Youth tickets are $7.\")\n",
    "    elif age >= 45 and age <= 55:\n",
    "        print(\"Senior do not pay, enjoy the ride.\")\n",
    "    else:\n",
    "        bill = 12\n",
    "        print(\"Adult tickers are $12.\")\n",
    "        \n",
    "    wants_photo = input(\"Do you want a photo taken? Y or N. \")\n",
    "    if wants_photo == \"Y\":\n",
    "        bill += 3\n",
    "    \n",
    "    print(f\"Your final bill is ${bill}.\")\n",
    "\n",
    "else:\n",
    "    print(\"Sorry, you have to grow taller before you can ride.\")"
   ]
  },
  {
   "cell_type": "code",
   "execution_count": 94,
   "metadata": {},
   "outputs": [
    {
     "name": "stdout",
     "output_type": "stream",
     "text": [
      "Welcome to the Love Calculator!\n",
      "Your score is 42, you are alright together.\n"
     ]
    }
   ],
   "source": [
    "#014 Love Calculator\n",
    "# 🚨 Don't change the code below 👇\n",
    "print(\"Welcome to the Love Calculator!\")\n",
    "name1 = input(\"What is your name? \\n\")\n",
    "name2 = input(\"What is their name? \\n\")\n",
    "# 🚨 Don't change the code above 👆\n",
    "#Write your code below this line 👇\n",
    "name = name1.lower() + name2.lower()\n",
    "#print(name3)\n",
    "\n",
    "t1 = name.count('t')\n",
    "r1 = name.count('r')\n",
    "u1 = name.count('u')\n",
    "e1 = name.count('e')\n",
    "l1 = name.count('l')\n",
    "o1 = name.count('o')\n",
    "v1 = name.count('v')\n",
    "e2 = name.count('e')\n",
    "\n",
    "sum1 = t1+r1+u1+e1\n",
    "sum2 = l1+o1+v1+e2\n",
    "sum3 = str(sum1) + str(sum2)\n",
    "love_score = int(sum3)\n",
    "\n",
    "if love_score < 10 or love_score > 90:\n",
    "    print(f\"Your score is {love_score}, you go together like coke and mentos.\")\n",
    "elif love_score >= 40 and love_score <= 50:\n",
    "    print(f\"Your score is {love_score}, you are alright together.\")\n",
    "else:\n",
    "    print(f\"Your score is {love_score}.\")\n"
   ]
  },
  {
   "cell_type": "code",
   "execution_count": 21,
   "metadata": {},
   "outputs": [
    {
     "name": "stdout",
     "output_type": "stream",
     "text": [
      " *******************************************************************************\n",
      "          |                   |                  |                     |\n",
      " _________|________________.=\"\"_;=.______________|_____________________|_______\n",
      "|                   |  ,-\"_,=\"\"     `\"=.|                  |\n",
      "|___________________|__\"=._o`\"-._        `\"=.______________|___________________\n",
      "          |                `\"=._o`\"=._      _`\"=._                     |\n",
      " _________|_____________________:=._o \"=._.\"_.-=\"'\"=.__________________|_______\n",
      "|                   |    __.--\" , ; `\"=._o.\" ,-\"\"\"-._ \".   |\n",
      "|___________________|_._\"  ,. .` ` `` ,  `\"-._\"-._   \". '__|___________________\n",
      "          |           |o`\"=._` , \"` `; .\". ,  \"-._\"-._; ;              |\n",
      " _________|___________| ;`-.o`\"=._; .\" ` '`.\"\\` . \"-._ /_______________|_______\n",
      "|                   | |o;    `\"-.o`\"=._``  '` \" ,__.--o;   |\n",
      "|___________________|_| ;     (#) `-.o `\"=.`_.--\"_o.-; ;___|___________________\n",
      "____/______/______/___|o;._    \"      `\".o|o_.--\"    ;o;____/______/______/____\n",
      "/______/______/______/_\"=._o--._        ; | ;        ; ;/______/______/______/_\n",
      "____/______/______/______/__\"=._o--._   ;o|o;     _._;o;____/______/______/____\n",
      "/______/______/______/______/____\"=._o._; | ;_.--\"o.--\"_/______/______/______/_\n",
      "____/______/______/______/______/_____\"=.o|o_.--\"\"___/______/______/______/____\n",
      "/______/______/______/______/______/______/______/______/______/______/_______/\n",
      "*******************************************************************************\n",
      "Welcome to the Treasure Island. \n",
      "Your mission is to find the treasure.\n",
      "You choice was LEFT\n",
      "You choice was WAIT\n",
      "You choice was RED\n",
      "Congratulations, you won!.\n"
     ]
    }
   ],
   "source": [
    "#015\n",
    "# Aqui temos o projeto do dia, um adventure game chamado Treasure Island\n",
    "print(''' *******************************************************************************\n",
    "          |                   |                  |                     |\n",
    " _________|________________.=\"\"_;=.______________|_____________________|_______\n",
    "|                   |  ,-\"_,=\"\"     `\"=.|                  |\n",
    "|___________________|__\"=._o`\"-._        `\"=.______________|___________________\n",
    "          |                `\"=._o`\"=._      _`\"=._                     |\n",
    " _________|_____________________:=._o \"=._.\"_.-=\"'\"=.__________________|_______\n",
    "|                   |    __.--\" , ; `\"=._o.\" ,-\"\"\"-._ \".   |\n",
    "|___________________|_._\"  ,. .` ` `` ,  `\"-._\"-._   \". '__|___________________\n",
    "          |           |o`\"=._` , \"` `; .\". ,  \"-._\"-._; ;              |\n",
    " _________|___________| ;`-.o`\"=._; .\" ` '`.\"\\` . \"-._ /_______________|_______\n",
    "|                   | |o;    `\"-.o`\"=._``  '` \" ,__.--o;   |\n",
    "|___________________|_| ;     (#) `-.o `\"=.`_.--\"_o.-; ;___|___________________\n",
    "____/______/______/___|o;._    \"      `\".o|o_.--\"    ;o;____/______/______/____\n",
    "/______/______/______/_\"=._o--._        ; | ;        ; ;/______/______/______/_\n",
    "____/______/______/______/__\"=._o--._   ;o|o;     _._;o;____/______/______/____\n",
    "/______/______/______/______/____\"=._o._; | ;_.--\"o.--\"_/______/______/______/_\n",
    "____/______/______/______/______/_____\"=.o|o_.--\"\"___/______/______/______/____\n",
    "/______/______/______/______/______/______/______/______/______/______/_______/\n",
    "*******************************************************************************''')\n",
    "\n",
    "print(\"Welcome to the Treasure Island. \\nYour mission is to find the treasure.\")\n",
    "choose_1 = str(input(\"You wake up in the beach that you don't know anybody. Do you wanna go left or right? LEFT/RIGHT\")).upper()\n",
    "if choose_1 == \"LEFT\":\n",
    "    print(f\"You choice was {choose_1}\")\n",
    "    choose_2 = str(input(\"Do you see a lake, do you wanna wait a boat to cross the lake or swim by yourself? WAIT/SWIM\")).upper()\n",
    "    if choose_2 == \"WAIT\":\n",
    "        print(f\"You choice was {choose_2}\")\n",
    "        choose_3 = str(input(\"You saw a house, with three doors, red, blue and yellow, what of them do you want to open? RED/BLUE/YELLOW\")).upper()\n",
    "        if choose_3 == \"RED\":\n",
    "            print(f\"You choice was {choose_3}\")\n",
    "            print(\"Congratulations, you won!\")\n",
    "        elif choose_3 != \"RED\":\n",
    "            print(f\"You choice was {choose_3}, but...\")\n",
    "            print(\"Game over, you choose the wrong door!\")\n",
    "    else:\n",
    "        print(\"Game Over. You have to wait the boat.\")\n",
    "else:\n",
    "    print(\"Game Over.\")\n"
   ]
  },
  {
   "cell_type": "code",
   "execution_count": null,
   "metadata": {},
   "outputs": [],
   "source": []
  }
 ],
 "metadata": {
  "kernelspec": {
   "display_name": "Python 3.10.5 ('minimal_ds')",
   "language": "python",
   "name": "python3"
  },
  "language_info": {
   "codemirror_mode": {
    "name": "ipython",
    "version": 3
   },
   "file_extension": ".py",
   "mimetype": "text/x-python",
   "name": "python",
   "nbconvert_exporter": "python",
   "pygments_lexer": "ipython3",
   "version": "3.10.5"
  },
  "orig_nbformat": 4,
  "vscode": {
   "interpreter": {
    "hash": "391066293673a381f46fde4eab3a852297a75425a967fdd3dc9522d6b9db39cd"
   }
  }
 },
 "nbformat": 4,
 "nbformat_minor": 2
}

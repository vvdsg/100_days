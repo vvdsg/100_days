{
 "cells": [
  {
   "cell_type": "markdown",
   "metadata": {},
   "source": [
    "Quarta Aula do 100 days of Python por Angela Yu\n",
    "- Random module\n",
    "- Projeto do Dia: rock-paper-scissor game"
   ]
  },
  {
   "cell_type": "code",
   "execution_count": 1,
   "metadata": {},
   "outputs": [],
   "source": [
    "import random  as rd "
   ]
  },
  {
   "cell_type": "code",
   "execution_count": null,
   "metadata": {},
   "outputs": [],
   "source": [
    "random_integer = rd.randint(1, 10)\n",
    "print(random_integer)\n",
    "\n",
    "random_float = rd.random()\n",
    "print(random_float)\n",
    "\n",
    "random_num = 5 * random_float\n",
    "print(random_num)"
   ]
  },
  {
   "cell_type": "code",
   "execution_count": 42,
   "metadata": {},
   "outputs": [
    {
     "name": "stdout",
     "output_type": "stream",
     "text": [
      "Tails\n"
     ]
    }
   ],
   "source": [
    "# 016 \n",
    "# Heads or Tails\n",
    "random_integer = rd.randint(0, 1)\n",
    "if random_integer == 1:\n",
    "    print(\"Heads\")\n",
    "else:\n",
    "    print(\"Tails\")"
   ]
  },
  {
   "cell_type": "markdown",
   "metadata": {},
   "source": [
    "## Listas em python\n",
    "\n",
    "Uma das estruturas de dados mais importantes do python.\n"
   ]
  },
  {
   "cell_type": "code",
   "execution_count": 10,
   "metadata": {},
   "outputs": [
    {
     "name": "stdout",
     "output_type": "stream",
     "text": [
      "Georgia\n",
      "['Delaware', 'Pennsylvania', 'New Jersey', 'Georgia', 'Vinilandia']\n",
      "['Delaware', 'Pennsylvania', 'New Jersey', 'Georgia', 'Vinilandia', 'South Dakota', 'North Dakota']\n"
     ]
    }
   ],
   "source": [
    "states_of_america = [\"Delaware\" , \"Pennsylvania\", \"New Jersey\", \"Georgia\"]\n",
    "print(states_of_america[-1]) #Print do último elemento da lista\n",
    "\n",
    "states_of_america.append(\"Vinilandia\")\n",
    "print(states_of_america)\n",
    "\n",
    "# Ler a documentação de listas em python\n",
    "\n",
    "# Caso queria adicionar mais itens de uma vez na lista, usamos o .extend e passamos a lista que queremos.\n",
    "\n",
    "states_of_america.extend([\"South Dakota\", \"North Dakota\"])\n",
    "print(states_of_america)\n",
    "\n"
   ]
  },
  {
   "cell_type": "code",
   "execution_count": 20,
   "metadata": {},
   "outputs": [
    {
     "name": "stdout",
     "output_type": "stream",
     "text": [
      "A pessoa que vai pagar será: Vinicius\n"
     ]
    }
   ],
   "source": [
    "# 017\n",
    "# Banker Roulette\n",
    "import random as rd\n",
    "\n",
    "# Split string method\n",
    "names_string = input(\"Give me everybody's names, separated by a comma. \")\n",
    "names = names_string.split(\", \")\n",
    "# 🚨 Don't change the code above 👆\n",
    "#Write your code below this line 👇\n",
    "\n",
    "num_itens = len(names)\n",
    "choice = rd.randint(0, num_itens - 1)\n",
    "person = names[choice]\n",
    "print(f'{person} is going to buy the meal today!')"
   ]
  },
  {
   "cell_type": "code",
   "execution_count": 50,
   "metadata": {},
   "outputs": [
    {
     "name": "stdout",
     "output_type": "stream",
     "text": [
      "[['Strawberries', 'Necatarines', 'Apples', 'Grapes', 'Peaches', 'Cherries', 'Pears'], ['Spinach', 'Kale', 'Tomatoes', 'Celery', 'Potatoes']]\n",
      "Celery\n"
     ]
    }
   ],
   "source": [
    "# Listas aninhadas\n",
    "\n",
    "fruits = [\"Strawberries\", \"Necatarines\", \"Apples\", \"Grapes\", \"Peaches\", \"Cherries\", \"Pears\"]\n",
    "vegetables = [\"Spinach\", \"Kale\", \"Tomatoes\", \"Celery\", \"Potatoes\"]\n",
    "dirty_dozen = [fruits, vegetables]\n",
    "print(dirty_dozen)\n",
    "print(dirty_dozen[1][3])\n"
   ]
  },
  {
   "cell_type": "code",
   "execution_count": 71,
   "metadata": {},
   "outputs": [
    {
     "name": "stdout",
     "output_type": "stream",
     "text": [
      "['️⬜️', '️⬜️', '️⬜️']\n",
      "['⬜️', '⬜️', '️⬜️']\n",
      "['⬜️️', 'X', '⬜️️']\n"
     ]
    }
   ],
   "source": [
    "# 018\n",
    "# Treasure Island\n",
    "# 🚨 Don't change the code below 👇\n",
    "row1 = [\"️⬜️\",\"️⬜️\",\"️⬜️\"]\n",
    "row2 = [\"⬜️\",\"⬜️\",\"️⬜️\"]\n",
    "row3 = [\"⬜️️\",\"⬜️️\",\"⬜️️\"]\n",
    "map = [row1, row2, row3]\n",
    "#print(f\"{row1}\\n{row2}\\n{row3}\")\n",
    "position = input(\"Where do you want to put the treasure?\")\n",
    "# 🚨 Don't change the code above 👆\n",
    "#Write your code below this row 👇\n",
    "horizontal = int(position[0]) #2\n",
    "vertical = int(position[1]) #3\n",
    "\n",
    "#outra opcao:\n",
    "# selected_row = map[vertical - 1]\n",
    "# selected_row[horizontal -1] = \"X\"\n",
    "map[vertical - 1][horizontal - 1] = \"X\"\n",
    "\n",
    "\n",
    "#Write your code above this row 👆\n",
    "# 🚨 Don't change the code below 👇\n",
    "print(f\"{row1}\\n{row2}\\n{row3}\")"
   ]
  },
  {
   "cell_type": "code",
   "execution_count": 110,
   "metadata": {},
   "outputs": [
    {
     "name": "stdout",
     "output_type": "stream",
     "text": [
      "\n",
      "    _______\n",
      "---'   ____)\n",
      "      (_____)\n",
      "      (_____)\n",
      "      (____)\n",
      "---.__(___)\n",
      "\n",
      "Computer chose: Paper\n",
      "\n",
      "     _______\n",
      "---'    ____)____\n",
      "           ______)\n",
      "          _______)\n",
      "         _______)\n",
      "---.__________)\n",
      "\n",
      "You Lose!\n"
     ]
    }
   ],
   "source": [
    "# 019\n",
    "# Projeto do Dia: rock-paper-scissor game\n",
    "import random as rd\n",
    "rock = \"\"\"\n",
    "    _______\n",
    "---'   ____)\n",
    "      (_____)\n",
    "      (_____)\n",
    "      (____)\n",
    "---.__(___)\n",
    "\"\"\"\n",
    "paper = \"\"\"\n",
    "     _______\n",
    "---'    ____)____\n",
    "           ______)\n",
    "          _______)\n",
    "         _______)\n",
    "---.__________)\n",
    "\"\"\"\n",
    "scissor = \"\"\"\n",
    "\n",
    "    _______\n",
    "---'   ____)____\n",
    "          ______)\n",
    "       __________)\n",
    "      (____)\n",
    "---.__(___)\n",
    "\"\"\"\n",
    "choice = [\"Rock\", \"Paper\", \"Scissor\"]\n",
    "choicegraphic = [rock, paper, scissor]\n",
    "\n",
    "human_choice = int(input(\"Waht do you choose? Type 0 for Rock, 1 for Paper or 2 for scissors\"))\n",
    "if human_choice >= 3 or human_choice < 0:\n",
    "    print(\"You tiped an invalid number, you lose!\")\n",
    "else:\n",
    "    print(choicegraphic[human_choice])\n",
    "\n",
    "    computer_choice = rd.randint(0, 2)\n",
    "    print(f\"Computer chose: {choice[computer_choice]}\")\n",
    "    print(choicegraphic[computer_choice])\n",
    "\n",
    "    if human_choice == computer_choice:\n",
    "        print(\"Draw!\")\n",
    "    elif human_choice == 0 and computer_choice == 2: \n",
    "        print(\"You Won!\")\n",
    "    elif human_choice == 1 and computer_choice == 0:\n",
    "        print(\"You Won!\")\n",
    "    elif human_choice == 2 and computer_choice == 1:\n",
    "        print(\"You Won!\")\n",
    "    else:\n",
    "        print(\"You Lose!\")"
   ]
  },
  {
   "cell_type": "code",
   "execution_count": null,
   "metadata": {},
   "outputs": [],
   "source": []
  }
 ],
 "metadata": {
  "kernelspec": {
   "display_name": "Python 3.10.5 ('minimal_ds')",
   "language": "python",
   "name": "python3"
  },
  "language_info": {
   "codemirror_mode": {
    "name": "ipython",
    "version": 3
   },
   "file_extension": ".py",
   "mimetype": "text/x-python",
   "name": "python",
   "nbconvert_exporter": "python",
   "pygments_lexer": "ipython3",
   "version": "3.10.5"
  },
  "orig_nbformat": 4,
  "vscode": {
   "interpreter": {
    "hash": "391066293673a381f46fde4eab3a852297a75425a967fdd3dc9522d6b9db39cd"
   }
  }
 },
 "nbformat": 4,
 "nbformat_minor": 2
}

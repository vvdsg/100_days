{
 "cells": [
  {
   "cell_type": "markdown",
   "metadata": {},
   "source": [
    "Quinta Aula do 100 days of Python por Angela Yu\n",
    "- For Loops, Range and Code Blocks\n",
    "- Projeto do Dia: password generator"
   ]
  },
  {
   "cell_type": "markdown",
   "metadata": {},
   "source": [
    "## Loops\n",
    "\n",
    "O fato mais interessante é que os loops permitem que executemos a mesma linha de código várias vezes.\n",
    "\n",
    "O loop for, faz loops através de uma lista e atribui um nome variável a cada um dos artigos da lista, por ordem."
   ]
  },
  {
   "cell_type": "code",
   "execution_count": 1,
   "metadata": {},
   "outputs": [
    {
     "name": "stdout",
     "output_type": "stream",
     "text": [
      "Apple\n",
      "Peach\n",
      "Pear\n"
     ]
    }
   ],
   "source": [
    "fruits = [\"Apple\", \"Peach\", \"Pear\"]\n",
    "for fruit in fruits:\n",
    "    print(fruit)"
   ]
  },
  {
   "cell_type": "code",
   "execution_count": 19,
   "metadata": {},
   "outputs": [
    {
     "name": "stdout",
     "output_type": "stream",
     "text": [
      "The average height of the students is 171.\n"
     ]
    }
   ],
   "source": [
    "# 020\n",
    "# Average Height\n",
    "student_heights = input(\"Input a list of student heights \").split()\n",
    "for n in range(0, len(student_heights)):\n",
    "  student_heights[n] = int(student_heights[n])\n",
    "pos = 0 # Criação do contador de itens na lista usando for\n",
    "sum_height = 0 # Criação da calculadora de itens dentro de uma lista usando for\n",
    "\n",
    "for height in student_heights: # Para cada valor dentro da lista, soma-se\n",
    "    sum_height += height\n",
    "\n",
    "for student in student_heights: # Para cada item dentro da lista, soma-se ao contador \"pos\" o valor de 1 \n",
    "    pos += 1\n",
    "avg = round(sum_height / pos)\n",
    "print(f\"The average height of the students is {avg}.\")\n"
   ]
  },
  {
   "cell_type": "code",
   "execution_count": 24,
   "metadata": {},
   "outputs": [
    {
     "name": "stdout",
     "output_type": "stream",
     "text": [
      "The highest score in the class is: 91.\n"
     ]
    }
   ],
   "source": [
    "# 021\n",
    "# Highest Score\n",
    "student_scores = input(\"Input a list of student scores \").split()\n",
    "for n in range(0, len(student_scores)):\n",
    "  student_scores[n] = int(student_scores[n])\n",
    "print(student_scores)\n",
    "\n",
    "hightest_score = 0\n",
    "for score in student_scores:\n",
    "    if score > hightest_score:\n",
    "        hightest_score = score\n",
    "print(f\"The highest score in the class is: {hightest_score}.\")\n"
   ]
  },
  {
   "cell_type": "code",
   "execution_count": 35,
   "metadata": {},
   "outputs": [
    {
     "name": "stdout",
     "output_type": "stream",
     "text": [
      "2450\n"
     ]
    }
   ],
   "source": [
    "# 022\n",
    "# Even number calculator between 0 and 100:\n",
    "sum_even = 0\n",
    "for x in range(0, 101):\n",
    "    if x % 2 == 0:\n",
    "        sum_even += x\n",
    "print(sum_even)"
   ]
  },
  {
   "cell_type": "code",
   "execution_count": null,
   "metadata": {},
   "outputs": [],
   "source": [
    "# 023\n",
    "# FizzBuzz Game\n",
    "for number in range(1, 101):\n",
    "    if number % 3 == 0 and number % 5 == 0:\n",
    "        print(\"FizzBuzz\")\n",
    "    elif number % 3 == 0:\n",
    "        print(\"Fizz\")\n",
    "    elif number % 5 == 0:\n",
    "        print(\"Buzz\")\n",
    "    else:\n",
    "        print(number)"
   ]
  },
  {
   "cell_type": "code",
   "execution_count": 86,
   "metadata": {},
   "outputs": [
    {
     "name": "stdout",
     "output_type": "stream",
     "text": [
      "Welcome to the PyPassword Generator!\n",
      "Your passport is &#8)y*eV5)+Z*n(*!68.\n"
     ]
    }
   ],
   "source": [
    "# 024\n",
    "# Projeto do dia: Gerador de Senhas\n",
    "import random as rd\n",
    "letters = ['a', 'b', 'c', 'd', 'e', 'f', 'g', 'h', 'i', 'j', 'k', 'l', 'm', 'n', 'o', 'p', 'q', 'r', 's', 't', 'u', 'v', 'w', 'x', 'y', 'z', 'A', 'B', 'C', 'D', 'E', 'F', 'G', 'H', 'I', 'J', 'K', 'L', 'M', 'N', 'O', 'P', 'Q', 'R', 'S', 'T', 'U', 'V', 'W', 'X', 'Y', 'Z']\n",
    "numbers = ['0', '1', '2', '3', '4', '5', '6', '7', '8', '9']\n",
    "symbols = ['!', '#', '$', '%', '&', '(', ')', '*', '+']\n",
    "print(\"Welcome to the PyPassword Generator!\")\n",
    "letters_choice = int(input(\"How many letters would you like in your password?\\n\"))\n",
    "symbols_choice = int(input(\"How many symbols would you like?\\n\"))\n",
    "numbers_choice = int(input(\"How many numbers would you like?\\n\"))\n",
    "\n",
    "password_list = []\n",
    "#letters_choice = 4\n",
    "for char in range(1, letters_choice + 1):\n",
    "    password_list += rd.choice(letters)\n",
    "\n",
    "for char in range(1, symbols_choice + 1):\n",
    "    password_list += rd.choice(symbols)\n",
    "\n",
    "for char in range (1, numbers_choice + 1):\n",
    "    password_list += rd.choice(numbers)\n",
    "rd.shuffle(password_list)\n",
    "password = ''\n",
    "\n",
    "for char in password_list:\n",
    "    password += char\n",
    "print(f\"Your passport is {password}.\")"
   ]
  },
  {
   "cell_type": "code",
   "execution_count": null,
   "metadata": {},
   "outputs": [],
   "source": []
  }
 ],
 "metadata": {
  "kernelspec": {
   "display_name": "Python 3.10.5 ('minimal_ds')",
   "language": "python",
   "name": "python3"
  },
  "language_info": {
   "codemirror_mode": {
    "name": "ipython",
    "version": 3
   },
   "file_extension": ".py",
   "mimetype": "text/x-python",
   "name": "python",
   "nbconvert_exporter": "python",
   "pygments_lexer": "ipython3",
   "version": "3.10.5"
  },
  "orig_nbformat": 4,
  "vscode": {
   "interpreter": {
    "hash": "391066293673a381f46fde4eab3a852297a75425a967fdd3dc9522d6b9db39cd"
   }
  }
 },
 "nbformat": 4,
 "nbformat_minor": 2
}

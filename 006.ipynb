{
 "cells": [
  {
   "cell_type": "markdown",
   "metadata": {},
   "source": [
    "Sexta Aula do 100 days of Python por Angela Yu\n",
    "- Functions, Code Blocks and While Loops\n",
    "- Projeto do Dia: Karel the Robot"
   ]
  },
  {
   "cell_type": "markdown",
   "metadata": {},
   "source": [
    "## Funções\n",
    "https://docs.python.org/3/library/functions.html"
   ]
  },
  {
   "cell_type": "markdown",
   "metadata": {},
   "source": [
    "## Site com os dois desafios da lição\n",
    "https://reeborg.ca/reeborg.html?lang=en&mode=python&menu=worlds%2Fmenus%2Freeborg_intro_en.json&name=Hurdle%201&url=worlds%2Ftutorial_en%2Fhurdle1.json\n",
    "\n",
    "O dia é focado basicamente em resolver todos esses problemas que são apresentados no link, logo não existe muita linha de código neste dia."
   ]
  },
  {
   "cell_type": "code",
   "execution_count": 4,
   "metadata": {},
   "outputs": [],
   "source": [
    "def my_function(x, y):\n",
    "    num = x * y\n",
    "    print(num)\n"
   ]
  },
  {
   "cell_type": "markdown",
   "metadata": {},
   "source": [
    "## Loop While\n",
    "É um loop que continua acontecendo enquanto a condição passada for verdadeira, quando a condição se torna falsa, o loop termina.\n",
    "\n",
    "No caso, se o loop For e o loop While fazem a mesma coisa, por que usar um e não o outro?\n",
    "Basicamente o loop For serve para quando temos de iterar sobre coisas que temos objetivamente conhecimento: uma lista, um range.\n",
    "Já no loop While, temos que ele irá executar uma função/ação repetidamente enquanto a condição for verdadeira, podendo ser 1, 10 ou infinitas vezes."
   ]
  },
  {
   "cell_type": "code",
   "execution_count": null,
   "metadata": {},
   "outputs": [],
   "source": [
    "## Solução do Labirinto do Reeborg:\n",
    "def turn_right():\n",
    "    turn_left()\n",
    "    turn_left()\n",
    "    turn_left()\n",
    "\n",
    "while not at_goal():\n",
    "    if right_is_clear():\n",
    "        turn_right()\n",
    "        move()\n",
    "    elif front_is_clear():\n",
    "        move()\n",
    "    else:\n",
    "        turn_left()"
   ]
  }
 ],
 "metadata": {
  "kernelspec": {
   "display_name": "Python 3.10.5 ('minimal_ds')",
   "language": "python",
   "name": "python3"
  },
  "language_info": {
   "codemirror_mode": {
    "name": "ipython",
    "version": 3
   },
   "file_extension": ".py",
   "mimetype": "text/x-python",
   "name": "python",
   "nbconvert_exporter": "python",
   "pygments_lexer": "ipython3",
   "version": "3.10.5"
  },
  "orig_nbformat": 4,
  "vscode": {
   "interpreter": {
    "hash": "391066293673a381f46fde4eab3a852297a75425a967fdd3dc9522d6b9db39cd"
   }
  }
 },
 "nbformat": 4,
 "nbformat_minor": 2
}

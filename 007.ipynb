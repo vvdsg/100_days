{
 "cells": [
  {
   "cell_type": "markdown",
   "metadata": {},
   "source": [
    "Sétima Aula do 100 days of Python por Angela Yu\n",
    "- Revisão de conceitos das aulas passadas como Loops for e while, declarações IF/ELSE e funcionamento de listas\n",
    "- rojeto do Dia: Um jogo da forca (hangman)"
   ]
  },
  {
   "cell_type": "markdown",
   "metadata": {},
   "source": [
    "## Flowchart - Fluxogramas\n",
    "Antes de por a mão na massa, a Angela nos faz questionar uma das coisas mais importantes:\n",
    "Qual a lógica por trás de algo tão simples? Como desenhar isso em um fluxo de código?\n",
    "\n",
    "diagrams.net"
   ]
  },
  {
   "cell_type": "code",
   "execution_count": 10,
   "metadata": {},
   "outputs": [
    {
     "name": "stdout",
     "output_type": "stream",
     "text": [
      "Right\n",
      "Wrong\n",
      "Right\n",
      "Wrong\n",
      "Wrong\n",
      "Wrong\n"
     ]
    }
   ],
   "source": [
    "# Step 1 \n",
    "import random as rd\n",
    "# Todo1 - Escolher randomicamente uma palavra dentro de uma lista e armazená-la numa variável\n",
    "word_list = [\"ardvark\", \"baboon\", \"camel\"]\n",
    "chosen_word = rd.choice(word_list)\n",
    "# Todo2 - Perguntar ao usuário uma letra e armazenar ela numa variável (tornar tudo lower case)\n",
    "guess = input(\"Escolha uma letra: \").lower()\n",
    "# Todo3 - Checar se a letra informada pelo usuário é uma das letras da palavra escolinha no Todo1.\n",
    "\n",
    "for letter in chosen_word:\n",
    "    if guess == letter:\n",
    "        print(\"Right\")\n",
    "    if guess != letter:\n",
    "        print(\"Wrong\")\n"
   ]
  },
  {
   "cell_type": "code",
   "execution_count": null,
   "metadata": {},
   "outputs": [
    {
     "name": "stdout",
     "output_type": "stream",
     "text": [
      "psssst, a solução é camel.\n",
      "['_', '_', '_', '_', '_']\n",
      "['_', 'a', '_', '_', '_']\n"
     ]
    }
   ],
   "source": [
    "# Step 2\n",
    "import random as rd\n",
    "# Testando o código\n",
    "word_list = [\"ardvark\", \"baboon\", \"camel\"]\n",
    "chosen_word = rd.choice(word_list)\n",
    "print(f\"psssst, a solução é {chosen_word}.\")\n",
    "\n",
    "# Todo1 - Criar uma lista vazia chamada display, para cada letra na palavra escolhida, adicionaremos um \"_\" ao display \n",
    "word_lenght = len(chosen_word)\n",
    "display = []\n",
    "for _ in range(0, word_lenght):\n",
    "    display += \"_\"\n",
    "print(display)\n",
    "guess = input(\"Escolha uma letra: \").lower()\n",
    "# Todo2 - Fazer um loop através de cada posição na palavra escolhida, se a letra escolhida pelo usuário bater com a letra da palavra escolhida, revelar\n",
    "# ela no display.\n",
    "# Ex: se a palavra escolhida for \"apple\" e o usuário escolher p, veremos algo assim: [\"_\", \"p\", \"p\", \"_\", \"_\"]\n",
    "\n",
    "for position in range(0, word_lenght):\n",
    "    letter = chosen_word[position]\n",
    "    if letter == guess:\n",
    "        display[position] = letter\n",
    "\n",
    "# Todo3 - Printar o \"display\" e ser capaz de verificar se a palavra escolhida está na posição correta e todas as outras letras que não foram adivinhadas\n",
    "# ainda estão como \"_\". \n",
    "print(display)"
   ]
  },
  {
   "cell_type": "code",
   "execution_count": null,
   "metadata": {},
   "outputs": [],
   "source": []
  },
  {
   "cell_type": "code",
   "execution_count": 1,
   "metadata": {},
   "outputs": [
    {
     "name": "stdout",
     "output_type": "stream",
     "text": [
      "psssst, a solução é baboon.\n",
      "['_', '_', '_', '_', '_', '_']\n",
      "['_', 'a', '_', '_', '_', '_']\n",
      "['_', 'a', '_', '_', '_', '_']\n",
      "['_', 'a', '_', '_', '_', '_']\n",
      "['_', 'a', '_', 'o', 'o', '_']\n",
      "['b', 'a', 'b', 'o', 'o', '_']\n",
      "['b', 'a', 'b', 'o', 'o', 'n']\n",
      "You won!\n"
     ]
    }
   ],
   "source": [
    "# Step 3 \n",
    "import random as rd\n",
    "# Testando o código\n",
    "word_list = [\"ardvark\", \"baboon\", \"camel\"]\n",
    "chosen_word = rd.choice(word_list)\n",
    "word_lenght = len(chosen_word)\n",
    "print(f\"psssst, a solução é {chosen_word}.\")\n",
    "\n",
    "# Criando os espaços vazios\n",
    "display = []\n",
    "for _ in range(word_lenght):\n",
    "    display += \"_\"\n",
    "print(display)\n",
    "\n",
    "# Todo1 - Use um loop While para deixar o usuário adivinhar várias letras. O loop deve parar assim que o usuário adivinhar todas as letras.\n",
    "\n",
    "end_of_game = False \n",
    "\n",
    "while not end_of_game:\n",
    "    guess = input(\"Escolha uma letra: \").lower()\n",
    "\n",
    "    # Checkando a letra escolhida\n",
    "    for position in range(0, word_lenght):\n",
    "        letter = chosen_word[position]\n",
    "        if letter == guess:\n",
    "            display[position] = letter\n",
    "    print(display)\n",
    "\n",
    "    if \"_\" not in display:\n",
    "        end_of_game = True\n",
    "        print(\"You won!\")"
   ]
  },
  {
   "cell_type": "code",
   "execution_count": null,
   "metadata": {},
   "outputs": [],
   "source": [
    "# Step 4\n",
    "\n",
    "import random\n",
    "\n",
    "end_of_game = False\n",
    "word_list = [\"ardvark\", \"baboon\", \"camel\"]\n",
    "chosen_word = random.choice(word_list)\n",
    "word_length = len(chosen_word)\n",
    "\n",
    "#TODO-1: - Create a variable called 'lives' to keep track of the number of lives left. \n",
    "#Set 'lives' to equal 6.\n",
    "\n",
    "lives = 6\n",
    "\n",
    "#Testing code\n",
    "print(f'Pssst, the solution is {chosen_word}.')\n",
    "\n",
    "#Create blanks\n",
    "display = []\n",
    "for _ in range(word_length):\n",
    "    display += \"_\"\n",
    "\n",
    "while not end_of_game:\n",
    "    guess = input(\"Guess a letter: \").lower()\n",
    "\n",
    "    #Check guessed letter\n",
    "    for position in range(word_length):\n",
    "        letter = chosen_word[position]\n",
    "        # print(f\"Current position: {position}\\n Current letter: {letter}\\n Guessed letter: {guess}\")\n",
    "        if letter == guess:\n",
    "            display[position] = letter\n",
    "\n",
    "    #TODO-2: - If guess is not a letter in the chosen_word,\n",
    "    #Then reduce 'lives' by 1. \n",
    "    #If lives goes down to 0 then the game should stop and it should print \"You lose.\"\n",
    "    if guess not in chosen_word:\n",
    "      lives -= 1\n",
    "      if lives == 0:\n",
    "        end_of_game = True\n",
    "        print(\"You Lose!\")\n",
    "\n",
    "    #Join all the elements in the list and turn it into a String.\n",
    "    print(f\"{' '.join(display)}\")\n",
    "\n",
    "    #Check if user has got all letters.\n",
    "    if \"_\" not in display:\n",
    "        end_of_game = True\n",
    "        print(\"You win.\")\n",
    "\n",
    "    #TODO-3: - print the ASCII art from 'stages' that corresponds to the current number of 'lives' the user has remaining.\n",
    "    print(stages[lives])"
   ]
  },
  {
   "cell_type": "code",
   "execution_count": 6,
   "metadata": {},
   "outputs": [
    {
     "name": "stdout",
     "output_type": "stream",
     "text": [
      "You guessed q that's not in the word. You lose a life\n",
      "_ _ _ _ _\n",
      "a _ _ _ _\n",
      "You guessed v that's not in the word. You lose a life\n",
      "a _ _ _ _\n",
      "You guessed p that's not in the word. You lose a life\n",
      "a _ _ _ _\n",
      "You guessed k that's not in the word. You lose a life\n",
      "a _ _ _ _\n",
      "You guessed j that's not in the word. You lose a life\n",
      "a _ _ _ _\n",
      "a _ i _ _\n",
      "You guessed t that's not in the word. You lose a life\n",
      "You lose. The word was axiom\n",
      "a _ i _ _\n"
     ]
    }
   ],
   "source": [
    "# Step 5\n",
    "import random\n",
    "word_list = [\n",
    "'abruptly', \n",
    "'absurd', \n",
    "'abyss', \n",
    "'affix', \n",
    "'askew', \n",
    "'avenue', \n",
    "'awkward', \n",
    "'axiom',]\n",
    "\n",
    "chosen_word = random.choice(word_list)\n",
    "word_length = len(chosen_word)\n",
    "\n",
    "end_of_game = False\n",
    "lives = 6\n",
    "\n",
    "#Create blanks\n",
    "display = []\n",
    "for _ in range(word_length):\n",
    "    display += \"_\"\n",
    "\n",
    "while not end_of_game:\n",
    "    guess = input(\"Guess a letter: \").lower()\n",
    "    #TODO-4: - If the user has entered a letter they've already guessed, print the letter and let them know.\n",
    "    if guess in display:\n",
    "        print(f\"You already guessed {guess}\")\n",
    "\n",
    "    #Check guessed letter\n",
    "    for position in range(word_length):\n",
    "        letter = chosen_word[position]\n",
    "        #print(f\"Current position: {position}\\n Current letter: {letter}\\n Guessed letter: {guess}\")\n",
    "        if letter == guess:\n",
    "            display[position] = letter\n",
    "\n",
    "    #Check if user is wrong.\n",
    "    if guess not in chosen_word:\n",
    "        #TODO-5: - If the letter is not in the chosen_word, print out the letter and let them know it's not in the word.\n",
    "        print(f\"You guessed {guess} that's not in the word. You lose a life\")\n",
    "        lives -= 1\n",
    "        if lives == 0:\n",
    "            end_of_game = True\n",
    "            print(f\"You lose. The word was {chosen_word}\")\n",
    "\n",
    "    #Join all the elements in the list and turn it into a String.\n",
    "    print(f\"{' '.join(display)}\")\n",
    "\n",
    "    #Check if user has got all letters.\n",
    "    if \"_\" not in display:\n",
    "        end_of_game = True\n",
    "        print(\"You win.\")"
   ]
  },
  {
   "cell_type": "code",
   "execution_count": null,
   "metadata": {},
   "outputs": [],
   "source": []
  }
 ],
 "metadata": {
  "kernelspec": {
   "display_name": "Python 3.10.5 ('minimal_ds')",
   "language": "python",
   "name": "python3"
  },
  "language_info": {
   "codemirror_mode": {
    "name": "ipython",
    "version": 3
   },
   "file_extension": ".py",
   "mimetype": "text/x-python",
   "name": "python",
   "nbconvert_exporter": "python",
   "pygments_lexer": "ipython3",
   "version": "3.10.5"
  },
  "orig_nbformat": 4,
  "vscode": {
   "interpreter": {
    "hash": "391066293673a381f46fde4eab3a852297a75425a967fdd3dc9522d6b9db39cd"
   }
  }
 },
 "nbformat": 4,
 "nbformat_minor": 2
}

{
 "cells": [
  {
   "cell_type": "markdown",
   "metadata": {},
   "source": [
    "Oitava Aula do 100 days of Python por Angela Yu\n",
    "- Functions with Inputs and know the diference between arguments and parameters\n",
    "- Projeto do Dia: Programa de Cifra (Caesar Cipher)"
   ]
  },
  {
   "cell_type": "code",
   "execution_count": 6,
   "metadata": {},
   "outputs": [
    {
     "name": "stdout",
     "output_type": "stream",
     "text": [
      "Hello Vinicius\n",
      "How do you do Vinicius?\n"
     ]
    }
   ],
   "source": [
    "# 025\n",
    "# Create a function called geret().\n",
    "# Write 3 print statements inside the function.\n",
    "# Call the greet() function and run your code.\n",
    "def greet():\n",
    "    print(\"You're amazing\")\n",
    "    print(\"You're awesome!\")\n",
    "    print(\"Do your job!!\")\n",
    "\n",
    "#greet()\n",
    "\n",
    "# Fuction that allow for input\n",
    "\n",
    "def greet_with_name(name):\n",
    "    print(f\"Hello {name}\")\n",
    "    print(f\"How do you do {name}?\")\n",
    "\n",
    "greet_with_name(\"Vinicius\")"
   ]
  },
  {
   "cell_type": "markdown",
   "metadata": {},
   "source": [
    "## Parâmetro e Argumento:\n",
    "O parâmetro é o nome dos dados que estão a ser transmitidos, no exemplo acima é o nome.\n",
    "O argumento é o valor real dos dados, no exemplo acima é \"Vinicius\"."
   ]
  },
  {
   "cell_type": "code",
   "execution_count": 15,
   "metadata": {},
   "outputs": [
    {
     "name": "stdout",
     "output_type": "stream",
     "text": [
      "Hello Joao\n",
      "What is it like in Barra.\n"
     ]
    }
   ],
   "source": [
    "# Functions with more than 1 input (Positional Arguments)\n",
    "def greet_with(name, location):\n",
    "    print(f\"Hello {name}\")\n",
    "    print(f\"What is it like in {location}.\")\n",
    "\n",
    "#greet_with(\"joao\", \"barra da tijuca\")\n",
    "\n",
    "# Functions with more than 1 input (Keyword Arguments)\n",
    "greet_with(location= \"Barra\", name = \"Joao\")"
   ]
  },
  {
   "cell_type": "code",
   "execution_count": 23,
   "metadata": {},
   "outputs": [
    {
     "name": "stdout",
     "output_type": "stream",
     "text": [
      "You'll need 6 cans of paint.\n"
     ]
    }
   ],
   "source": [
    "# 026\n",
    "# Paint Area Calculator\n",
    "# Write your code below this line 👇\n",
    "import numpy\n",
    "def paint_calc(height, width, cover):\n",
    "    number_of_cans = test_h * test_w / cover\n",
    "    can = int(numpy.ceil(number_of_cans))\n",
    "    print(f\"You'll need {can} cans of paint.\")\n",
    "\n",
    "# Write your code above this line 👆\n",
    "# Define a function called paint_calc() so that the code below works.   \n",
    "\n",
    "# 🚨 Don't change the code below 👇\n",
    "test_h = int(input(\"Height of wall: \"))\n",
    "test_w = int(input(\"Width of wall: \"))\n",
    "coverage = 5\n",
    "paint_calc(height=test_h, width=test_w, cover=coverage)"
   ]
  },
  {
   "cell_type": "code",
   "execution_count": 4,
   "metadata": {},
   "outputs": [
    {
     "name": "stdout",
     "output_type": "stream",
     "text": [
      "It's a prime number.\n"
     ]
    }
   ],
   "source": [
    "# 027\n",
    "# Prime number Checker\n",
    "#Write your code below this line 👇\n",
    "def prime_checker(number):\n",
    "    is_prime = True\n",
    "    for i in range(2, number):\n",
    "        if number % i == 0:\n",
    "            is_prime = False\n",
    "    if is_prime:\n",
    "        print(\"It's a prime number.\")\n",
    "    else:\n",
    "        print(\"It's not a prime number.\")\n",
    "\n",
    "#Write your code above this line 👆\n",
    "    \n",
    "#Do NOT change any of the code below👇\n",
    "n = int(input(\"Check this number: \"))\n",
    "prime_checker(number=n)\n"
   ]
  },
  {
   "cell_type": "markdown",
   "metadata": {},
   "source": [
    "## Minha cifra de César"
   ]
  },
  {
   "cell_type": "code",
   "execution_count": 49,
   "metadata": {},
   "outputs": [
    {
     "name": "stdout",
     "output_type": "stream",
     "text": [
      "A palavra cifrada foi: meet me at 3 e depois de passar pela cifra de césar, virou rjjy rj fy 3.\n"
     ]
    }
   ],
   "source": [
    "def cifra_de_cesar(mensagem, deslocamento):\n",
    "    alfabeto = 'abcdefghijklmnopqrstuvwxyz'\n",
    "    tamanho_alfabeto = len(alfabeto)\n",
    "    texto_cifrado = ''\n",
    "\n",
    "    for letra in mensagem:\n",
    "        if letra in alfabeto:\n",
    "            posicao = alfabeto.index(letra)\n",
    "            posicao_cifrada = (posicao + deslocamento) % tamanho_alfabeto\n",
    "            texto_cifrado += str(alfabeto[posicao_cifrada])\n",
    "        else:\n",
    "            texto_cifrado += letra\n",
    "    \n",
    "    return texto_cifrado\n",
    "\n",
    "mensagem = str(input(\"Digite a palavra a ser codificada: \")).lower()\n",
    "deslocamento = int(input(\"Insira o valor de deslocamento: \"))\n",
    "texto_cifrado = cifra_de_cesar(mensagem, deslocamento)\n",
    "\n",
    "cifra_de_cesar(mensagem= \"zapzap\", deslocamento=3)\n",
    "print(f\"A palavra cifrada foi: {mensagem} e depois de passar pela cifra de césar, virou {texto_cifrado}.\")\n",
    "\n"
   ]
  },
  {
   "cell_type": "markdown",
   "metadata": {},
   "source": [
    "## Cifra de César do Curso 1"
   ]
  },
  {
   "cell_type": "code",
   "execution_count": 29,
   "metadata": {},
   "outputs": [
    {
     "name": "stdout",
     "output_type": "stream",
     "text": [
      "The encoded text is ezqz\n"
     ]
    }
   ],
   "source": [
    "alphabet = ['a', 'b', 'c', 'd', 'e', 'f', 'g', 'h', 'i', 'j', 'k', 'l', 'm', 'n', 'o', 'p', 'q', 'r', 's', 't', 'u', 'v', 'w', 'x', 'y', 'z']\n",
    "\n",
    "#direction = input(\"Type 'encode' to encrypt, type 'decode' to decrypt:\\n\")\n",
    "text = input(\"Type your message:\\n\").lower()\n",
    "shift = int(input(\"Type the shift number:\\n\"))\n",
    "\n",
    "#TODO-1: Create a function called 'encrypt' that takes the 'text' and 'shift' as inputs.\n",
    "def encrypt(plain_text, shift_amount):\n",
    "    cipher_text = \"\"\n",
    "    for letter in plain_text:\n",
    "        position = alphabet.index(letter)\n",
    "        new_position = (position + shift_amount) % len(alphabet)\n",
    "        new_letter = alphabet[new_position]\n",
    "        cipher_text += new_letter\n",
    "    print(f\"The encoded text is {cipher_text}\")\n",
    "    #TODO-2: Inside the 'encrypt' function, shift each letter of the 'text' forwards in the alphabet by the shift amount and print the encrypted text.  \n",
    "    #e.g. \n",
    "    #plain_text = \"hello\"\n",
    "    #shift = 5\n",
    "    #cipher_text = \"mjqqt\"\n",
    "    #print output: \"The encoded text is mjqqt\"\n",
    "\n",
    "    ##HINT: How do you get the index of an item in a list:\n",
    "    #https://stackoverflow.com/questions/176918/finding-the-index-of-an-item-in-a-list\n",
    "\n",
    "    ##🐛Bug alert: What happens if you try to encode the word 'civilization'?🐛\n",
    "\n",
    "#TODO-3: Call the encrypt function and pass in the user inputs. You should be able to test the code and encrypt a message.\n",
    "encrypt(plain_text=text, shift_amount=shift)"
   ]
  },
  {
   "cell_type": "markdown",
   "metadata": {},
   "source": [
    "## Cifra de Cesar do Curso 2"
   ]
  },
  {
   "cell_type": "code",
   "execution_count": 39,
   "metadata": {},
   "outputs": [
    {
     "name": "stdout",
     "output_type": "stream",
     "text": [
      "The decoded text is hello\n"
     ]
    }
   ],
   "source": [
    "alphabet = ['a', 'b', 'c', 'd', 'e', 'f', 'g', 'h', 'i', 'j', 'k', 'l', 'm', 'n', 'o', 'p', 'q', 'r', 's', 't', 'u', 'v', 'w', 'x', 'y', 'z', 'a', 'b', 'c', 'd', 'e', 'f', 'g', 'h', 'i', 'j', 'k', 'l', 'm', 'n', 'o', 'p', 'q', 'r', 's', 't', 'u', 'v', 'w', 'x', 'y', 'z']\n",
    "\n",
    "direction = input(\"Type 'encode' to encrypt, type 'decode' to decrypt:\\n\")\n",
    "text = input(\"Type your message:\\n\").lower()\n",
    "shift = int(input(\"Type the shift number:\\n\"))\n",
    "\n",
    "def encrypt(plain_text, shift_amount):\n",
    "  cipher_text = \"\"\n",
    "  for letter in plain_text:\n",
    "    position = alphabet.index(letter)\n",
    "    new_position = position + shift_amount\n",
    "    cipher_text += alphabet[new_position]\n",
    "  print(f\"The encoded text is {cipher_text}\")\n",
    "\n",
    "#TODO-1: Create a different function called 'decrypt' that takes the 'text' and 'shift' as inputs.\n",
    "def decrypt(cipher_text, shift_amount):\n",
    "    plain_text = \"\"\n",
    "    for letter in cipher_text:\n",
    "        position = alphabet.index(letter)\n",
    "        new_position = position - shift_amount\n",
    "        plain_text += alphabet[new_position]\n",
    "    print(f\"The decoded text is {plain_text}\")\n",
    "\n",
    "  #TODO-2: Inside the 'decrypt' function, shift each letter of the 'text' *backwards* in the alphabet by the shift amount and print the decrypted text.  \n",
    "  #e.g. \n",
    "  #cipher_text = \"mjqqt\"\n",
    "  #shift = 5\n",
    "  #plain_text = \"hello\"\n",
    "  #print output: \"The decoded text is hello\"\n",
    "\n",
    "\n",
    "#TODO-3: Check if the user wanted to encrypt or decrypt the message by checking the 'direction' variable. Then call the correct function based on that 'drection' variable. You should be able to test the code to encrypt *AND* decrypt a message.\n",
    "if direction == \"encode\":\n",
    "    encrypt(plain_text=text, shift_amount=shift)\n",
    "elif direction == \"decode\":\n",
    "    decrypt(cipher_text=text, shift_amount=shift)\n"
   ]
  },
  {
   "cell_type": "markdown",
   "metadata": {},
   "source": [
    "## Versão Otimizada da Versão do Curso"
   ]
  },
  {
   "cell_type": "code",
   "execution_count": 60,
   "metadata": {},
   "outputs": [
    {
     "name": "stdout",
     "output_type": "stream",
     "text": [
      "Here's the decoded result: me encontra na rua 54, esquina com a 33 as 17 horas.\n"
     ]
    }
   ],
   "source": [
    "alphabet = ['a', 'b', 'c', 'd', 'e', 'f', 'g', 'h', 'i', 'j', 'k', 'l', 'm', 'n', 'o', 'p', 'q', 'r', 's', 't', 'u', 'v', 'w', 'x', 'y', 'z']\n",
    "\n",
    "direction = input(\"Type 'encode' to encrypt, type 'decode' to decrypt:\\n\")\n",
    "text = input(\"Type your message:\\n\").lower()\n",
    "shift = int(input(\"Type the shift number:\\n\"))\n",
    "\n",
    "def caesar(start_text, shift_amount, cipher_direction):\n",
    "    end_text = \"\"\n",
    "    if cipher_direction == 'decode':\n",
    "        shift_amount *= -1\n",
    "    for letter in start_text:\n",
    "        if letter in alphabet:\n",
    "            position = alphabet.index(letter)\n",
    "            new_position = (position + shift_amount) % len(alphabet)\n",
    "            end_text += alphabet[new_position]\n",
    "        else:\n",
    "            end_text += letter\n",
    "    print(f\"Here's the {direction}d result: {end_text}.\")\n",
    "\n",
    "caesar(start_text=text, shift_amount=shift, cipher_direction=direction)"
   ]
  },
  {
   "cell_type": "code",
   "execution_count": null,
   "metadata": {},
   "outputs": [],
   "source": []
  }
 ],
 "metadata": {
  "kernelspec": {
   "display_name": "Python 3.10.5 ('minimal_ds')",
   "language": "python",
   "name": "python3"
  },
  "language_info": {
   "codemirror_mode": {
    "name": "ipython",
    "version": 3
   },
   "file_extension": ".py",
   "mimetype": "text/x-python",
   "name": "python",
   "nbconvert_exporter": "python",
   "pygments_lexer": "ipython3",
   "version": "3.10.5"
  },
  "orig_nbformat": 4,
  "vscode": {
   "interpreter": {
    "hash": "391066293673a381f46fde4eab3a852297a75425a967fdd3dc9522d6b9db39cd"
   }
  }
 },
 "nbformat": 4,
 "nbformat_minor": 2
}

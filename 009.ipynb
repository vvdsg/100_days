{
 "cells": [
  {
   "cell_type": "markdown",
   "metadata": {},
   "source": [
    "Nona Aula do 100 days of Python por Angela Yu\n",
    "- Dicionários\n",
    "- Projeto do Dia: Auction Program"
   ]
  },
  {
   "cell_type": "markdown",
   "metadata": {},
   "source": [
    "## Dicionários em Python\n",
    "\n",
    "Funcionam quase como dicionários na vida real.\n",
    "\n",
    "Na vida real, temos uma palavra e uma definição.\n",
    "\n",
    "No Python, temos uma relação de key, value"
   ]
  },
  {
   "cell_type": "code",
   "execution_count": 13,
   "metadata": {},
   "outputs": [
    {
     "name": "stdout",
     "output_type": "stream",
     "text": [
      "{'Bug': 'An error in a program that prevents the program from running as expected.', 'Function': 'A piece of code that can easily call over and over again.'}\n"
     ]
    }
   ],
   "source": [
    "programming_dictionary = {\n",
    "    \"Bug\": \"An error in a program that prevents the program from running as expected.\", \n",
    "    \"Function\": \"A piece of code that can easily call over and over again.\",\n",
    "}\n",
    "\n",
    "print(programming_dictionary)"
   ]
  },
  {
   "cell_type": "code",
   "execution_count": 6,
   "metadata": {},
   "outputs": [
    {
     "name": "stdout",
     "output_type": "stream",
     "text": [
      "An error in a program that prevents the program from running as expected.\n"
     ]
    }
   ],
   "source": [
    "print(programming_dictionary[\"Bog\"]) # KeyError, usamos o nome da key errado.\n",
    "# Recuperando itens de um dicionário:\n",
    "print(programming_dictionary[\"Bug\"])"
   ]
  },
  {
   "cell_type": "code",
   "execution_count": 14,
   "metadata": {},
   "outputs": [
    {
     "name": "stdout",
     "output_type": "stream",
     "text": [
      "{'Bug': 'An error in a program that prevents the program from running as expected.', 'Function': 'A piece of code that can easily call over and over again.', 'Loop': 'The action of doing something over and over again'}\n"
     ]
    }
   ],
   "source": [
    "# Adicionando novos itens em um dicionário:\n",
    "programming_dictionary[\"Loop\"] = \"The action of doing something over and over again\"\n",
    "print(programming_dictionary)"
   ]
  },
  {
   "cell_type": "code",
   "execution_count": 11,
   "metadata": {},
   "outputs": [
    {
     "name": "stdout",
     "output_type": "stream",
     "text": [
      "{}\n"
     ]
    }
   ],
   "source": [
    "# Criando um novo dicionário\n",
    "empty_dict = {}\n",
    "print(empty_dict)"
   ]
  },
  {
   "cell_type": "code",
   "execution_count": null,
   "metadata": {},
   "outputs": [],
   "source": [
    "# Esvaziando um dicionário\n",
    "programming_dictionary = {} # não executado para não limpar o dicionário que está sendo utilizado."
   ]
  },
  {
   "cell_type": "code",
   "execution_count": 12,
   "metadata": {},
   "outputs": [
    {
     "name": "stdout",
     "output_type": "stream",
     "text": [
      "{'Bug': 'A moth in your computer', 'Function': 'A piece of code that can easily call over and over again.', 'Loop': 'The action of doing something over and over again'}\n"
     ]
    }
   ],
   "source": [
    "# Editando um item num dicionário\n",
    "programming_dictionary[\"Bug\"] = \"A moth in your computer\"\n",
    "print(programming_dictionary)"
   ]
  },
  {
   "cell_type": "code",
   "execution_count": 15,
   "metadata": {},
   "outputs": [
    {
     "name": "stdout",
     "output_type": "stream",
     "text": [
      "Bug\n",
      "An error in a program that prevents the program from running as expected.\n",
      "Function\n",
      "A piece of code that can easily call over and over again.\n",
      "Loop\n",
      "The action of doing something over and over again\n"
     ]
    }
   ],
   "source": [
    "# Loop through a dictionary\n",
    "for key in programming_dictionary:\n",
    "    print(key)\n",
    "    print(programming_dictionary[key])"
   ]
  },
  {
   "cell_type": "code",
   "execution_count": 18,
   "metadata": {},
   "outputs": [
    {
     "name": "stdout",
     "output_type": "stream",
     "text": [
      "{'Harry': 'Exceeds Expectations', 'Ron': 'Acceptable', 'Hermione': 'Outstanding', 'Draco': 'Acceptable', 'Neville': 'Fail'}\n"
     ]
    }
   ],
   "source": [
    "# 028 \n",
    "# Grading Program\n",
    "student_scores = {\n",
    "  \"Harry\": 81,\n",
    "  \"Ron\": 78,\n",
    "  \"Hermione\": 99, \n",
    "  \"Draco\": 74,\n",
    "  \"Neville\": 62,\n",
    "}\n",
    "# 🚨 Don't change the code above 👆\n",
    "\n",
    "#TODO-1: Create an empty dictionary called student_grades.\n",
    "student_grades = {}\n",
    "#TODO-2: Write your code below to add the grades to student_grades.👇\n",
    "for key in student_scores:\n",
    "    score = student_scores[key]\n",
    "    if score <= 70:\n",
    "        student_grades[key] = \"Fail\"\n",
    "    elif score <= 80:\n",
    "        student_grades[key] = \"Acceptable\"\n",
    "    elif score <= 90:\n",
    "        student_grades[key] = \"Exceeds Expectations\"\n",
    "    elif score > 91:\n",
    "        student_grades[key] = \"Outstanding\"\n",
    "     \n",
    "# 🚨 Don't change the code below 👇\n",
    "print(student_grades)"
   ]
  },
  {
   "cell_type": "code",
   "execution_count": 13,
   "metadata": {},
   "outputs": [],
   "source": [
    "# Nesting\n",
    "\n",
    "capitals = {\n",
    "    \"France\": \"Paris\",\n",
    "    \"Germany\": \"Berlin\",\n",
    "\n",
    "}\n",
    "\n",
    "# Nesting a List in a Dictionary\n",
    "\n",
    "travel_log = {\n",
    "    \"France\": [\"Paris\", \"Lille\", \"Dijon\"],\n",
    "    \"Germany\": [\"Berlin\", \"Hamburg\", \"Stuttgart\"],\n",
    "\n",
    "}\n",
    "\n",
    "# Nesting a Dictionary in a Dictionary\n",
    "travel_log = {\n",
    "    \"France\": {\"cities_visited\": [\"Paris\", \"Lille\", \"Dijon\"], \"total_visits\": 12},\n",
    "    \"Brazil\": {\"cities_visited\": [\"Rio Grande do Sul\", \"São Paulo\", \"Florianópolis\"], \"cafes_tomados\": 22},\n",
    "\n",
    "}\n",
    "\n",
    "# Nesting a Dictionary in a List\n",
    "travel_log = [\n",
    "    {\n",
    "        \"country\": \"France\", \n",
    "        \"cities_visited\": [\"Paris\", \"Lille\", \"Dijon\"], \n",
    "        \"total_visits\": 12\n",
    "        },\n",
    "    {\n",
    "        \"country\": \"Brazil\",\n",
    "        \"cities_visited\": [\"Rio Grande do Sul\", \"São Paulo\", \"Florianópolis\"], \n",
    "        \"total_visits\": 22\n",
    "        },\n",
    "]\n"
   ]
  },
  {
   "cell_type": "code",
   "execution_count": 17,
   "metadata": {},
   "outputs": [
    {
     "name": "stdout",
     "output_type": "stream",
     "text": [
      "[{'country': 'France', 'visits': 12, 'cities': ['Paris', 'Lille', 'Dijon']}, {'country': 'Germany', 'visits': 5, 'cities': ['Berlin', 'Hamburg', 'Stuttgart']}, {'country': 'Russia', 'visits': 2, 'cities': ['Moscow', 'Saint Petersburg']}, {'country': 'Brazil', 'visits': 4, 'cities': ['São Paulo', 'Rio de Janeiro', 'Florianópolis']}]\n"
     ]
    }
   ],
   "source": [
    "# 029\n",
    "# Dictionary in List\n",
    "travel_log = [\n",
    "{\n",
    "  \"country\": \"France\",\n",
    "  \"visits\": 12,\n",
    "  \"cities\": [\"Paris\", \"Lille\", \"Dijon\"]\n",
    "},\n",
    "{\n",
    "  \"country\": \"Germany\",\n",
    "  \"visits\": 5,\n",
    "  \"cities\": [\"Berlin\", \"Hamburg\", \"Stuttgart\"]\n",
    "},\n",
    "]\n",
    "#🚨 Do NOT change the code above\n",
    "\n",
    "#TODO: Write the function that will allow new countries\n",
    "#to be added to the travel_log. 👇\n",
    "def add_new_country(country_visited, times_visited, cities_visited):\n",
    "    new_country = {}\n",
    "    new_country[\"country\"] = country_visited\n",
    "    new_country[\"visits\"] = times_visited\n",
    "    new_country[\"cities\"] = cities_visited\n",
    "    travel_log.append(new_country)\n",
    "    \n",
    "#🚨 Do not change the code below\n",
    "add_new_country(\"Russia\", 2, [\"Moscow\", \"Saint Petersburg\"])\n",
    "add_new_country(\"Brazil\", 4, [\"São Paulo\", \"Rio de Janeiro\", \"Florianópolis\"])\n",
    "print(travel_log)"
   ]
  },
  {
   "cell_type": "code",
   "execution_count": 36,
   "metadata": {},
   "outputs": [
    {
     "name": "stdout",
     "output_type": "stream",
     "text": [
      "[{'name': 'Vinicius', 'bid': 99}, {'name': 'Gustavo', 'bid': 12}, {'name': 'Angela', 'bid': 54}]\n",
      "The winner is Vinicius with a bid of 99.\n"
     ]
    }
   ],
   "source": [
    "# 030\n",
    "# Projeto do dia: Blind Auction Program\n",
    "auction = []\n",
    "answer = \"\"\n",
    "winner = \"\"\n",
    "\n",
    "while answer != \"no\":\n",
    "    new_people = {}\n",
    "    name = str(input(\"What is your name? \"))\n",
    "    bid = int(input(\"What's your bid? $\" ))\n",
    "    new_people[\"name\"] = name\n",
    "    new_people[\"bid\"] = bid\n",
    "    auction.append(new_people)\n",
    "    answer = input(\"Are there any other bidders? Type 'yes' or 'no'. \")\n",
    "    \n",
    "max_bid = max(people[\"bid\"] for people in auction)\n",
    "\n",
    "for people in auction:\n",
    "    if people[\"bid\"] == max_bid:\n",
    "        winner = people[\"name\"]\n",
    "\n",
    "print(auction)\n",
    "print(f\"The winner is {winner} with a bid of {max_bid}.\")"
   ]
  },
  {
   "cell_type": "code",
   "execution_count": 46,
   "metadata": {},
   "outputs": [
    {
     "name": "stdout",
     "output_type": "stream",
     "text": [
      "{'Vinicius': 92, 'Angela': 82, 'Gustavo': 91, 'João': 77}\n",
      "The winner is Vinicius with a bid of 92.\n"
     ]
    }
   ],
   "source": [
    "# Projeto do Dia na Versão do Curso\n",
    "bids = {}\n",
    "bidding_finished = False\n",
    "\n",
    "def find_highest_bidder(bidding_record):\n",
    "    highest_bid = 0 \n",
    "    winner = \"\"\n",
    "    for bidder in bidding_record:\n",
    "        bid_amount = bidding_record[bidder]\n",
    "        if bid_amount > highest_bid:\n",
    "            highest_bid = bid_amount\n",
    "            winner = bidder\n",
    "    print(f\"The winner is {winner} with a bid of {highest_bid}.\")\n",
    "\n",
    "while not bidding_finished:\n",
    "    name = input(\"What is your name?: \")\n",
    "    price = int(input(\"What is your bid?: $\"))\n",
    "    bids[name] = price\n",
    "    should_continue = input(\"Are there any other bidders? Type 'yes' or 'no'. \")\n",
    "    if should_continue == \"no\":\n",
    "        bidding_finished = True\n",
    "\n",
    "print(bids)\n",
    "find_highest_bidder(bids)"
   ]
  },
  {
   "cell_type": "code",
   "execution_count": null,
   "metadata": {},
   "outputs": [],
   "source": []
  }
 ],
 "metadata": {
  "kernelspec": {
   "display_name": "Python 3.10.5 ('minimal_ds')",
   "language": "python",
   "name": "python3"
  },
  "language_info": {
   "codemirror_mode": {
    "name": "ipython",
    "version": 3
   },
   "file_extension": ".py",
   "mimetype": "text/x-python",
   "name": "python",
   "nbconvert_exporter": "python",
   "pygments_lexer": "ipython3",
   "version": "3.10.5"
  },
  "orig_nbformat": 4,
  "vscode": {
   "interpreter": {
    "hash": "391066293673a381f46fde4eab3a852297a75425a967fdd3dc9522d6b9db39cd"
   }
  }
 },
 "nbformat": 4,
 "nbformat_minor": 2
}
